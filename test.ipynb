{
 "cells": [
  {
   "cell_type": "code",
   "execution_count": 1,
   "metadata": {},
   "outputs": [],
   "source": [
    "import torch\n",
    "\n",
    "model = torch.load('/Users/jimmyfu87/JupyterNotebook/Save_model/Dogcat_resnet18_moredata')"
   ]
  },
  {
   "cell_type": "code",
   "execution_count": 3,
   "metadata": {},
   "outputs": [],
   "source": [
    "from torchvision import transforms\n",
    "transforms = transforms.Compose([transforms.Resize((224,224)), transforms.ToTensor()])"
   ]
  },
  {
   "cell_type": "code",
   "execution_count": 4,
   "metadata": {},
   "outputs": [],
   "source": [
    "from tqdm.notebook import tqdm\n",
    "from PIL import Image\n",
    "\n",
    "def test_submit(model,n_img,path): \n",
    "    pred_label=[]\n",
    "    for i in tqdm(range(1,n_img+1)):\n",
    "        path = image_path + str(i) +'.jpg'\n",
    "        #讀取照片為PIL圖檔\n",
    "        img = Image.open(path).convert('RGB')\n",
    "        #PIL圖檔->transforms(resize(224,224),to_tensor)\n",
    "        img = transforms(img)\n",
    "        #原本img是(3,224,224)但Resnet18需要的維度為4維(a,3,224,224)，a為圖片張數\n",
    "        #一次讀一張，unsqueeze(0)是在0的index增加一個維度，張數為一張因此變成(1,3,224,224)\n",
    "        img = img.unsqueeze(0)\n",
    "        #將圖片丟入模型output[貓的數值,狗的數值]\n",
    "        with torch.no_grad(): \n",
    "            output=model(img)\n",
    "        #取數值較大的為pred\n",
    "        pred = output.data.max(dim = 1, keepdim = True)[1]\n",
    "        pred_label.append(int(pred))\n",
    "    return pred_label"
   ]
  },
  {
   "cell_type": "code",
   "execution_count": 7,
   "metadata": {},
   "outputs": [
    {
     "data": {
      "application/vnd.jupyter.widget-view+json": {
       "model_id": "ff98b7b2a535473a8be10b2b01b41b23",
       "version_major": 2,
       "version_minor": 0
      },
      "text/plain": [
       "HBox(children=(FloatProgress(value=0.0, max=10.0), HTML(value='')))"
      ]
     },
     "metadata": {},
     "output_type": "display_data"
    },
    {
     "name": "stdout",
     "output_type": "stream",
     "text": [
      "\n"
     ]
    },
    {
     "data": {
      "text/plain": [
       "[1, 1, 1, 1, 0, 0, 0, 0, 0, 0]"
      ]
     },
     "execution_count": 7,
     "metadata": {},
     "output_type": "execute_result"
    }
   ],
   "source": [
    "image_path ='/Users/jimmyfu87/JupyterNotebook/Dataset/dogs-vs-cats-redux-kernels-edition/small/test/'\n",
    "n_img=10\n",
    "#n_img=12500\n",
    "pred_label=test_submit(model,n_img,image_path)\n",
    "pred_label"
   ]
  }
 ],
 "metadata": {
  "interpreter": {
   "hash": "568cd4d49199866d6e818d1519896295f642e03f6781c7fc29b3d0dbbfef0e7c"
  },
  "kernelspec": {
   "display_name": "Python 3.7.3 64-bit ('base': conda)",
   "language": "python",
   "name": "python3"
  },
  "language_info": {
   "codemirror_mode": {
    "name": "ipython",
    "version": 3
   },
   "file_extension": ".py",
   "mimetype": "text/x-python",
   "name": "python",
   "nbconvert_exporter": "python",
   "pygments_lexer": "ipython3",
   "version": "3.7.3"
  },
  "orig_nbformat": 4
 },
 "nbformat": 4,
 "nbformat_minor": 2
}
